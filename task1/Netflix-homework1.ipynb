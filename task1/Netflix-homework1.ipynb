{
 "cells": [
  {
   "cell_type": "markdown",
   "metadata": {},
   "source": [
    "# Explore Dataset - Homework exercice 1 (Programming task)"
   ]
  },
  {
   "cell_type": "markdown",
   "metadata": {},
   "source": [
    "## Introduction\n",
    "\n",
    "This dataset consists of tv shows and movies available on Netflix as of 2019. The dataset is collected from Flixable which is a third-party Netflix search engine.\n",
    "\n",
    "Dataset with Netflix content available as of 2019\n",
    "[Netflix content dataset](https://www.kaggle.com/shivamb/netflix-shows)\n",
    "\n",
    "This dataset was gathered from kaggle and it was used to cluster movies togheter to find similar movies and create recommendations.\n",
    "\n",
    "### Inspiration:\n",
    "\n",
    "1. Understanding what content is available in different countries\n",
    "2. Identifying similar content by matching text-based features\n",
    "3. Network analysis of Actors / Directors and find interesting insights\n",
    "4. Is Netflix has increasingly focusing on TV rather than movies in recent years.\n",
    "\n",
    "### Authors:\n",
    "\n",
    "**Grupo: 5** \n",
    "- André Moreira, 62058\n",
    "- Catarina Silva, 76399\n",
    "- Luís Marques, 81526\n"
   ]
  },
  {
   "cell_type": "code",
   "execution_count": null,
   "metadata": {},
   "outputs": [],
   "source": [
    "#Import Pandas library\n",
    "import pandas as pd\n",
    "\n",
    "#Import Numpy library\n",
    "import numpy as np\n",
    "\n",
    "#Import Plotly library\n",
    "import plotly.express as px"
   ]
  },
  {
   "cell_type": "markdown",
   "metadata": {},
   "source": [
    "## Load dataset and first analysis"
   ]
  },
  {
   "cell_type": "code",
   "execution_count": null,
   "metadata": {},
   "outputs": [],
   "source": [
    "# Load dataset from the folder datasets\n",
    "netflix_df = pd.read_csv(\"./datasets/netflix_titles.csv\")\n",
    "# returns rows\n",
    "netflix_df.head()"
   ]
  },
  {
   "cell_type": "code",
   "execution_count": null,
   "metadata": {},
   "outputs": [],
   "source": [
    "# Print a concise summary of a DataFrame\n",
    "netflix_df.info()"
   ]
  },
  {
   "cell_type": "code",
   "execution_count": null,
   "metadata": {},
   "outputs": [],
   "source": [
    "# Return a tuple representing the dimensionality of the DataFrame.\n",
    "netflix_df.shape"
   ]
  },
  {
   "cell_type": "code",
   "execution_count": null,
   "metadata": {},
   "outputs": [],
   "source": [
    "# Generate descriptive statistics.\n",
    "netflix_df.describe(include=np.object)"
   ]
  },
  {
   "cell_type": "code",
   "execution_count": null,
   "metadata": {},
   "outputs": [],
   "source": [
    "# Examine how often specific values occur in release_year column\n",
    "netflix_df['release_year'].value_counts()"
   ]
  },
  {
   "cell_type": "markdown",
   "metadata": {},
   "source": [
    "## Quering the dataset"
   ]
  },
  {
   "cell_type": "code",
   "execution_count": null,
   "metadata": {
    "scrolled": true
   },
   "outputs": [],
   "source": [
    "netflix_df[netflix_df['release_year'] > 2019]"
   ]
  },
  {
   "cell_type": "markdown",
   "metadata": {},
   "source": [
    "## Sorting"
   ]
  },
  {
   "cell_type": "code",
   "execution_count": null,
   "metadata": {},
   "outputs": [],
   "source": [
    "netflix_df.sort_values(by='release_year').head()"
   ]
  },
  {
   "cell_type": "markdown",
   "metadata": {},
   "source": [
    "## Transforming Dataset"
   ]
  },
  {
   "cell_type": "code",
   "execution_count": null,
   "metadata": {},
   "outputs": [],
   "source": [
    "# Convert season to minutes and convert x min to x (convert string to int)\n",
    "def convert_duration(d):\n",
    "    a = d.split(' ')\n",
    "    if a[1] == 'min':\n",
    "        return int(a[0])\n",
    "    else:\n",
    "        #estimate season duration\n",
    "        # 12 = average number of episodes\n",
    "        # 45 = average number of minutes per episode\n",
    "        return int(a[0])*12*45\n",
    "        \n",
    "netflix_df['duration'] = netflix_df['duration'].apply(convert_duration)\n",
    "netflix_df.head()"
   ]
  },
  {
   "cell_type": "code",
   "execution_count": null,
   "metadata": {},
   "outputs": [],
   "source": [
    "# Count the number of Nulls\n",
    "netflix_df.isnull().sum()"
   ]
  },
  {
   "cell_type": "markdown",
   "metadata": {},
   "source": [
    "### Missing values"
   ]
  },
  {
   "cell_type": "code",
   "execution_count": null,
   "metadata": {},
   "outputs": [],
   "source": [
    "# Remove Nulls\n",
    "netflix_df.dropna(inplace=True)"
   ]
  },
  {
   "cell_type": "code",
   "execution_count": null,
   "metadata": {},
   "outputs": [],
   "source": [
    "# Count the number of Nulls\n",
    "netflix_df.isnull().sum()"
   ]
  },
  {
   "cell_type": "markdown",
   "metadata": {},
   "source": [
    "### Convert String Date to Datetime"
   ]
  },
  {
   "cell_type": "markdown",
   "metadata": {},
   "source": [
    "1. Conversion Times"
   ]
  },
  {
   "cell_type": "code",
   "execution_count": null,
   "metadata": {
    "scrolled": true
   },
   "outputs": [],
   "source": [
    "# Conversion times with inference and without\n",
    "\n",
    "'''\n",
    "%timeit pd.to_datetime(netflix_df['date_added'], infer_datetime_format=True)\n",
    "\n",
    "%timeit pd.to_datetime(netflix_df['date_added'], infer_datetime_format=False)\n",
    "'''"
   ]
  },
  {
   "cell_type": "markdown",
   "metadata": {},
   "source": [
    "![Convertion Times](images/convertion_times.png)"
   ]
  },
  {
   "cell_type": "markdown",
   "metadata": {},
   "source": [
    "2. Convert date to datetime"
   ]
  },
  {
   "cell_type": "code",
   "execution_count": null,
   "metadata": {},
   "outputs": [],
   "source": [
    "netflix_df['date_added'] = pd.to_datetime(netflix_df['date_added'], infer_datetime_format=True)"
   ]
  },
  {
   "cell_type": "code",
   "execution_count": null,
   "metadata": {},
   "outputs": [],
   "source": [
    "netflix_df.info()"
   ]
  },
  {
   "cell_type": "markdown",
   "metadata": {},
   "source": [
    "## Visualizing"
   ]
  },
  {
   "cell_type": "markdown",
   "metadata": {},
   "source": [
    "### Plot"
   ]
  },
  {
   "cell_type": "code",
   "execution_count": null,
   "metadata": {},
   "outputs": [],
   "source": [
    "# Relase year plot (bar)\n",
    "netflix_df[\"release_year\"].value_counts().head(10).plot(kind=\"bar\")"
   ]
  },
  {
   "cell_type": "markdown",
   "metadata": {},
   "source": [
    "### Histogram"
   ]
  },
  {
   "cell_type": "markdown",
   "metadata": {},
   "source": [
    "1. Release year histogram"
   ]
  },
  {
   "cell_type": "code",
   "execution_count": null,
   "metadata": {},
   "outputs": [],
   "source": [
    "# Relase year Histogram\n",
    "netflix_df.hist(column='release_year', bins =20)"
   ]
  },
  {
   "cell_type": "markdown",
   "metadata": {},
   "source": [
    "2. Duration histogram"
   ]
  },
  {
   "cell_type": "code",
   "execution_count": null,
   "metadata": {
    "scrolled": false
   },
   "outputs": [],
   "source": [
    "netflix_df.hist(column='duration', bins=50)"
   ]
  },
  {
   "cell_type": "markdown",
   "metadata": {},
   "source": [
    "## Top rated movies on netflix"
   ]
  },
  {
   "cell_type": "markdown",
   "metadata": {},
   "source": [
    "Due to the lack of movie ratings on the original dataset, we decided to use the ratings available on IMDb by merging the original dataset with the ratings from the second.\n",
    "[IMDb movies extensive dataset](https://www.kaggle.com/stefanoleone992/imdb-extensive-dataset)\n",
    "\n",
    "IMDb is the most popular movie website and it combines movie plot description, Metastore ratings, critic and user ratings and reviews, release dates, and many more aspects.\n",
    "\n",
    "IMDb stores information related to more than 6 million titles (of which almost 500,000 are featured films) and it is owned by Amazon since 1998.\n",
    "\n",
    "The data has been scraped from the publicly available website https://www.imdb.com. All the movies with more than 100 votes have been scraped as of 01/01/2020."
   ]
  },
  {
   "cell_type": "code",
   "execution_count": null,
   "metadata": {},
   "outputs": [],
   "source": [
    "#Loads IMDB ratings dataset\n",
    "imdb_ratings=pd.read_csv('datasets/IMDb ratings.csv',usecols=['weighted_average_vote'])\n",
    "imdb_titles=pd.read_csv('datasets/IMDb movies.csv', usecols=['title','year','genre'], dtype=str)\n",
    "\n",
    "#Builds a dataframe containing movie's title, release year, rating and genre\n",
    "ratings = pd.DataFrame({'Title':imdb_titles.title,\n",
    "                    'Release Year':imdb_titles.year,\n",
    "                    'Rating': imdb_ratings.weighted_average_vote,\n",
    "                    'Genre':imdb_titles.genre})\n",
    "\n",
    "#Removes duplicate values from the dataframe and rebuilds it\n",
    "ratings.drop_duplicates(subset=['Title','Release Year','Rating'], inplace=True)\n",
    "ratings.shape"
   ]
  },
  {
   "cell_type": "code",
   "execution_count": null,
   "metadata": {},
   "outputs": [],
   "source": [
    "imdb_titles.info()"
   ]
  },
  {
   "cell_type": "code",
   "execution_count": null,
   "metadata": {},
   "outputs": [],
   "source": [
    "imdb_ratings.info()"
   ]
  },
  {
   "cell_type": "code",
   "execution_count": null,
   "metadata": {},
   "outputs": [],
   "source": [
    "#Removes rows with empty values from the dataframe and rebuilds it\n",
    "ratings.dropna(inplace=True)\n",
    "\n",
    "#Merges the two dataframes into a new one\n",
    "joint_data=ratings.merge(netflix_df,left_on='Title',right_on='title',how='inner')\n",
    "\n",
    "#Sorts the dataframe into descending rating order\n",
    "joint_data=joint_data.sort_values(by='Rating', ascending=False)"
   ]
  },
  {
   "cell_type": "code",
   "execution_count": null,
   "metadata": {},
   "outputs": [],
   "source": [
    "joint_data.info()"
   ]
  },
  {
   "cell_type": "code",
   "execution_count": null,
   "metadata": {},
   "outputs": [],
   "source": [
    "#Picks the first 10 elements from the dataframe and creates a list\n",
    "top_rated=joint_data[0:10]\n",
    "\n",
    "#Creates sunburst visualization with Plotly\n",
    "fig = px.sunburst(\n",
    "    top_rated,\n",
    "    path=['title','country'],\n",
    "    values='Rating',\n",
    "    color='Rating')\n",
    "fig.show()"
   ]
  },
  {
   "cell_type": "markdown",
   "metadata": {},
   "source": [
    "## Top Movie Makers"
   ]
  },
  {
   "cell_type": "code",
   "execution_count": null,
   "metadata": {},
   "outputs": [],
   "source": [
    "#Creates a dataframe based on the value counts of movies by 'Country' column\n",
    "country_count=joint_data['country'].value_counts().sort_values(ascending=False)\n",
    "country_count=pd.DataFrame(country_count)\n",
    "\n",
    "#Picks 11 top counts\n",
    "topcountries=country_count[0:10]\n",
    "topcountries"
   ]
  },
  {
   "cell_type": "code",
   "execution_count": null,
   "metadata": {},
   "outputs": [],
   "source": [
    "#Get countries to list format\n",
    "topcountries.to_dict()['country'].keys()"
   ]
  },
  {
   "cell_type": "code",
   "execution_count": null,
   "metadata": {},
   "outputs": [],
   "source": [
    "#Get movie counts to list format\n",
    "topcountries['country'].values.tolist()"
   ]
  },
  {
   "cell_type": "code",
   "execution_count": null,
   "metadata": {},
   "outputs": [],
   "source": [
    "#Converts data to dictionary to fit plotting criteria\n",
    "data = dict(\n",
    "    number=topcountries['country'].values.tolist(),\n",
    "    country=topcountries.to_dict()['country'].keys())\n",
    "\n",
    "#Plots funnel image\n",
    "fig = px.funnel(data, x='number', y='country')\n",
    "fig.show()"
   ]
  },
  {
   "cell_type": "markdown",
   "metadata": {},
   "source": [
    "## Average IMDb Movie rating on Netflix"
   ]
  },
  {
   "cell_type": "code",
   "execution_count": null,
   "metadata": {},
   "outputs": [],
   "source": [
    "#Ratings count of each movie on Netflix. Ratings were floored as to set a range instead of individual values\n",
    "np.floor(joint_data['Rating']).value_counts()"
   ]
  },
  {
   "cell_type": "code",
   "execution_count": null,
   "metadata": {},
   "outputs": [],
   "source": [
    "#Transforms data to dictionary to better plot the data\n",
    "data = dict(\n",
    "    rating = dict(np.floor(joint_data['Rating']).value_counts()).keys(),\n",
    "    count = np.floor(joint_data['Rating']).value_counts()\n",
    ")\n",
    "\n",
    "'''\n",
    "Creates bar chart to display how Netflix movies are rated.\n",
    "We can access a movie quality/resonance with general public by its rating, \n",
    "thus making it possible to understand how good Netflix content is\n",
    "'''\n",
    "fig = px.bar(data, x='rating', y='count')\n",
    "fig.show()"
   ]
  },
  {
   "cell_type": "markdown",
   "metadata": {},
   "source": [
    "## Movie classification on Netflix"
   ]
  },
  {
   "cell_type": "code",
   "execution_count": null,
   "metadata": {},
   "outputs": [],
   "source": [
    "fig = px.histogram(joint_data['rating'], x='rating')\n",
    "fig.show()"
   ]
  },
  {
   "cell_type": "markdown",
   "metadata": {},
   "source": [
    "## Content growth on Netflix over the years"
   ]
  },
  {
   "cell_type": "markdown",
   "metadata": {},
   "source": [
    "In order to make a analysis on content growth of Netflix over the years we had to read the dataset again and only drop invalid entries that contained null values on a subset of features. The fields we look at for the analysis in question are the content *type* and *date_added*. The remaining features such as *cast* have no impact on the desired analysis so the entries were kept despite not having information on the *cast*."
   ]
  },
  {
   "cell_type": "code",
   "execution_count": null,
   "metadata": {},
   "outputs": [],
   "source": [
    "#Read CSCV\n",
    "netflix_new_df = pd.read_csv(\"./datasets/netflix_titles.csv\")\n",
    "\n",
    "#Drop null values from type and date_added subset\n",
    "netflix_new_df.dropna(subset=['type', 'date_added'], inplace=True)\n",
    "\n",
    "#Convert date_added dtype to datetime\n",
    "netflix_new_df['date_added'] = pd.to_datetime(netflix_new_df['date_added'], infer_datetime_format=True)\n",
    "\n",
    "#Display number of nulls and dtype\n",
    "netflix_new_df.info()"
   ]
  },
  {
   "cell_type": "code",
   "execution_count": null,
   "metadata": {},
   "outputs": [],
   "source": [
    "#Retrieve cumulative sum of Netflix content by date_added\n",
    "netflix_content_growth = pd.DatetimeIndex(netflix_new_df.date_added).year.sort_values(ascending=True)\\\n",
    "            .value_counts().sort_index().cumsum(axis=0)\n",
    "\n",
    "#Transform cumulative sum to dictionary so we can plot it\n",
    "data = dict(\n",
    "    year = netflix_content_growth.keys(),\n",
    "    count = netflix_content_growth.values\n",
    ")"
   ]
  },
  {
   "cell_type": "code",
   "execution_count": null,
   "metadata": {},
   "outputs": [],
   "source": [
    "#Create line chart with content growth on Netflix\n",
    "fig = px.line(data, x='year', y='count')\n",
    "fig.show()"
   ]
  },
  {
   "cell_type": "markdown",
   "metadata": {},
   "source": [
    "## Growth per content type over the years"
   ]
  },
  {
   "cell_type": "code",
   "execution_count": null,
   "metadata": {},
   "outputs": [],
   "source": [
    "#Retrieve content type on Netflix\n",
    "netflix_new_df.type.unique()"
   ]
  },
  {
   "cell_type": "code",
   "execution_count": null,
   "metadata": {},
   "outputs": [],
   "source": [
    "#Create reference to netflix_new dataframe filtering data to only contain TV Shows\n",
    "tvshow_df = netflix_new_df[netflix_new_df.type.str.contains('TV Show')]\n",
    "\n",
    "#Cumulative sum of Netflix TV Shows over the years\n",
    "pd.DatetimeIndex(tvshow_df.date_added).year.sort_values(ascending=True)\\\n",
    "            .value_counts().sort_index().cumsum(axis=0)"
   ]
  },
  {
   "cell_type": "code",
   "execution_count": null,
   "metadata": {},
   "outputs": [],
   "source": [
    "#Create reference to netflix_new dataframe filtering data to only contain Movies\n",
    "movies_df = netflix_new_df[netflix_new_df.type.str.contains('Movie')]\n",
    "\n",
    "#Cumulative sum of Netflix Movies over the years\n",
    "pd.DatetimeIndex(movies_df.date_added).year.sort_values(ascending=True)\\\n",
    "            .value_counts().sort_index().cumsum(axis=0)"
   ]
  },
  {
   "cell_type": "code",
   "execution_count": null,
   "metadata": {},
   "outputs": [],
   "source": [
    "#Create dataframe from cumulative sum of Netflix TV Shows over the years\n",
    "tvshow_df = pd.DataFrame(pd.DatetimeIndex(tvshow_df.date_added).year.sort_values(ascending=True)\\\n",
    "            .value_counts().sort_index().cumsum(axis=0))"
   ]
  },
  {
   "cell_type": "code",
   "execution_count": null,
   "metadata": {},
   "outputs": [],
   "source": [
    "#Added year indexes as a value on the dataframe so we can plot it\n",
    "tvshow_df.insert(0, 'year', tvshow_df.index)\n",
    "\n",
    "#Renamed feature to its correct representation\n",
    "tvshow_df.rename(columns = {'date_added':'count'}, inplace = True)\n",
    "\n",
    "#Added feature type and filled values as TV Show\n",
    "tvshow_df.insert(2, 'type', 'TV Show')"
   ]
  },
  {
   "cell_type": "code",
   "execution_count": null,
   "metadata": {
    "scrolled": true
   },
   "outputs": [],
   "source": [
    "#Display TV Show dataframe\n",
    "tvshow_df"
   ]
  },
  {
   "cell_type": "code",
   "execution_count": null,
   "metadata": {},
   "outputs": [],
   "source": [
    "#Create dataframe from cumulative sum of Netflix Movies over the years\n",
    "movies_df = pd.DataFrame(pd.DatetimeIndex(movies_df.date_added).year.sort_values(ascending=True)\\\n",
    "            .value_counts().sort_index().cumsum(axis=0))"
   ]
  },
  {
   "cell_type": "code",
   "execution_count": null,
   "metadata": {},
   "outputs": [],
   "source": [
    "#Added year indexes as a value on the dataframe so we can plot it\n",
    "movies_df.insert(0, 'year', movies_df.index)\n",
    "\n",
    "#Renamed feature to its correct representation\n",
    "movies_df.rename(columns = {'date_added':'count'}, inplace = True)\n",
    "\n",
    "#Added feature type and filled values as Movie\n",
    "movies_df.insert(2, 'type', 'Movie')"
   ]
  },
  {
   "cell_type": "code",
   "execution_count": null,
   "metadata": {},
   "outputs": [],
   "source": [
    "#Display Movie dataframe\n",
    "movies_df"
   ]
  },
  {
   "cell_type": "code",
   "execution_count": null,
   "metadata": {},
   "outputs": [],
   "source": [
    "#Creates new dataframe by appending Movies dataframe to TV Shows dataframe\n",
    "content_type_df = tvshow_df.append(movies_df, ignore_index=True, sort=False)"
   ]
  },
  {
   "cell_type": "code",
   "execution_count": null,
   "metadata": {},
   "outputs": [],
   "source": [
    "#Display cumulative sum per content dataframe\n",
    "content_type_df"
   ]
  },
  {
   "cell_type": "code",
   "execution_count": null,
   "metadata": {},
   "outputs": [],
   "source": [
    "#Create line chart with content growth on Netflix per type\n",
    "fig = px.line(content_type_df, x=\"year\", y=\"count\", color='type')\n",
    "fig.show()"
   ]
  }
 ],
 "metadata": {
  "kernelspec": {
   "display_name": "Python 3",
   "language": "python",
   "name": "python3"
  },
  "language_info": {
   "codemirror_mode": {
    "name": "ipython",
    "version": 3
   },
   "file_extension": ".py",
   "mimetype": "text/x-python",
   "name": "python",
   "nbconvert_exporter": "python",
   "pygments_lexer": "ipython3",
   "version": "3.8.5"
  }
 },
 "nbformat": 4,
 "nbformat_minor": 4
}
