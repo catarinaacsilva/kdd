{
 "cells": [
  {
   "cell_type": "markdown",
   "metadata": {},
   "source": [
    "# TEMPLATE \n",
    "\n",
    "Binary Classifiers : perceptron and logistic regression\n",
    "1. 2D Toy Data. Training the models\n",
    "2. Visualization of the Feature Space (visual evaluation of the models).\n",
    "\n"
   ]
  },
  {
   "cell_type": "code",
   "execution_count": null,
   "metadata": {},
   "outputs": [],
   "source": [
    "#numeric: pandas and numpy\n",
    "import numpy as np\n",
    "import pandas as pd\n",
    "# graphics\n",
    "%matplotlib inline \n",
    "import matplotlib.pyplot as plt \n",
    "import matplotlib.gridspec as gridspec "
   ]
  },
  {
   "cell_type": "code",
   "execution_count": null,
   "metadata": {},
   "outputs": [],
   "source": [
    "#Toy examples illustration. Verify if package \"mlxten\"\n",
    "from mlxtend.plotting import plot_decision_regions\n"
   ]
  },
  {
   "cell_type": "markdown",
   "metadata": {},
   "source": [
    "# Toy Data\n",
    "\n",
    "Starting with toy data to understand the main characteristics of the models. \n",
    "1. Creating artificial data with two characteristics \n",
    "    might be useful.\n",
    "\n",
    "Scikit- learn provides also data sets with real data and all of them are avalaible and easily download and written in the proper formats \n",
    "\n",
    "https://scikit-learn.org/stable/datasets/index.html"
   ]
  },
  {
   "cell_type": "code",
   "execution_count": null,
   "metadata": {},
   "outputs": [],
   "source": [
    "from sklearn.datasets import make_blobs, make_circles, make_moons, make_circles\n",
    "\n",
    "X_blobs, y_blobs = make_blobs(n_samples=100, centers=2, n_features=2, random_state=None)\n",
    "\n",
    "X_moon,y_moon= make_moons(n_samples=100, shuffle=True, noise=None, random_state=None)\n",
    "\n",
    "X_cir, y_cir= make_circles(n_samples=100, shuffle=True, noise=None, random_state=None, factor=0.4)"
   ]
  },
  {
   "cell_type": "code",
   "execution_count": null,
   "metadata": {},
   "outputs": [],
   "source": [
    "print(np.unique(y_blobs))"
   ]
  },
  {
   "cell_type": "code",
   "execution_count": null,
   "metadata": {
    "scrolled": true
   },
   "outputs": [],
   "source": [
    "fig, (ax1, ax2, ax3) = plt.subplots(1, 3)\n",
    "\n",
    "ax1.scatter(X_blobs[y_blobs==0,0],X_blobs[y_blobs==0,1],marker='s',color='r',label='0' )\n",
    "ax1.scatter(X_blobs[y_blobs==1,0],X_blobs[y_blobs==1,1],marker='s',color='g',label='0' )\n",
    "#ax1.set_aspect('equal')\n",
    "ax2.scatter(X_moon[y_moon==0,0],X_moon[y_moon==0,1],marker='s',color='r',label='0' )\n",
    "ax2.scatter(X_moon[y_moon==1,0],X_moon[y_moon==1,1],marker='s',color='g',label='0' )\n",
    "\n",
    "ax3.scatter(X_cir[y_cir==0,0],X_cir[y_cir==0,1],marker='s',color='r',label='0' )\n",
    "ax3.scatter(X_cir[y_cir==1,0],X_cir[y_cir==1,1],marker='s',color='g',label='0' )\n"
   ]
  },
  {
   "cell_type": "markdown",
   "metadata": {},
   "source": [
    "**Dataset description**\n",
    "\n",
    "We have three different datasets: Blobs, Moon and Circles.\n",
    "The first one is linearly separatable since it is possible to draw a line between the two blobs.\n",
    "This also means that most classifiers should be able to found a linear decision boundary that classifies the label correctly.\n",
    "The other two datasets are not linear separatable meaning that is not possible two draw a line that separates the output label.\n",
    "At least without a kernel transformation."
   ]
  },
  {
   "cell_type": "markdown",
   "metadata": {},
   "source": [
    "# Learning \n",
    "\n",
    "There are two steps \n",
    "1.  The creation of the  classifier.  Comprises the assignment of the parameters of the training algorithm (called hyper-parameters) which have influence on the performance of the classifier.\n",
    "2. The training phase. Which  is the adaption of the model parameters using a training set.\n",
    "\n",
    "After learning there is the test phase.  To measure the performance on unseen data, e.g,  data not included in the  traning set. The test set \n"
   ]
  },
  {
   "cell_type": "markdown",
   "metadata": {},
   "source": [
    "### Learning with linear discriminant classifiers "
   ]
  },
  {
   "cell_type": "code",
   "execution_count": null,
   "metadata": {},
   "outputs": [],
   "source": [
    "# The Data set\n",
    "# Blobs\n",
    "X=X_blobs\n",
    "y=y_blobs \n",
    "\n",
    "#Moon\n",
    "xMoon = X_moon\n",
    "yMoon = y_moon\n",
    "\n",
    "#Circles\n",
    "xCir = X_cir\n",
    "yCir = y_cir"
   ]
  },
  {
   "cell_type": "code",
   "execution_count": null,
   "metadata": {},
   "outputs": [],
   "source": [
    "from sklearn.linear_model import Perceptron\n",
    "#Create perceptron and assign hyperparameters (max_iter, eta0- learning rate)\n",
    "ppn=Perceptron(penalty=None, alpha=0.0001, fit_intercept=True, max_iter=20, tol=None, \n",
    "               eta0=0.1, n_jobs=1, random_state=0, class_weight=None, warm_start=False)\n",
    "\n",
    "#Learning - Blobs\n",
    "ppn.fit(X,y)"
   ]
  },
  {
   "cell_type": "code",
   "execution_count": null,
   "metadata": {},
   "outputs": [],
   "source": [
    "#Blobs\n",
    "\n",
    "plot_decision_regions(X, y, clf=ppn)\n",
    "plt.xlabel('x1')\n",
    "plt.ylabel('x2')\n",
    "plt.legend(loc='upper left')\n",
    "plt.grid()\n",
    "plt.tight_layout()\n",
    "plt.show()\n"
   ]
  },
  {
   "cell_type": "markdown",
   "metadata": {},
   "source": [
    "**Answer:** As expected, the perceptron classifier was able to find a linear separation between the classes."
   ]
  },
  {
   "cell_type": "code",
   "execution_count": null,
   "metadata": {},
   "outputs": [],
   "source": [
    "#Blobs\n",
    "\n",
    "print('number of iteration', ppn.n_iter_)\n",
    "print('weights', ppn.coef_)\n",
    "print('bias',ppn.intercept_)"
   ]
  },
  {
   "cell_type": "code",
   "execution_count": null,
   "metadata": {},
   "outputs": [],
   "source": [
    "#Learning - Moon\n",
    "ppn.fit(xMoon,yMoon)"
   ]
  },
  {
   "cell_type": "code",
   "execution_count": null,
   "metadata": {},
   "outputs": [],
   "source": [
    "#Moon\n",
    "\n",
    "plot_decision_regions(xMoon, yMoon, clf=ppn)\n",
    "plt.xlabel('x1')\n",
    "plt.ylabel('x2')\n",
    "plt.legend(loc='upper left')\n",
    "plt.grid()\n",
    "plt.tight_layout()\n",
    "plt.show()"
   ]
  },
  {
   "cell_type": "markdown",
   "metadata": {},
   "source": [
    "**Answer:** As previously mentioned, the percepton (linear model) is not able to find linear separation between the data. The best separtion it can found is align that misclassifies the top and botton between the moons."
   ]
  },
  {
   "cell_type": "code",
   "execution_count": null,
   "metadata": {},
   "outputs": [],
   "source": [
    "#Moon\n",
    "\n",
    "print('number of iteration', ppn.n_iter_)\n",
    "print('weights', ppn.coef_)\n",
    "print('bias',ppn.intercept_)"
   ]
  },
  {
   "cell_type": "code",
   "execution_count": null,
   "metadata": {},
   "outputs": [],
   "source": [
    "#Learning - Circle\n",
    "ppn.fit(xCir,yCir)"
   ]
  },
  {
   "cell_type": "code",
   "execution_count": null,
   "metadata": {},
   "outputs": [],
   "source": [
    "#Circle\n",
    "\n",
    "plot_decision_regions(xCir, yCir, clf=ppn)\n",
    "plt.xlabel('x1')\n",
    "plt.ylabel('x2')\n",
    "plt.legend(loc='upper left')\n",
    "plt.grid()\n",
    "plt.tight_layout()\n",
    "plt.show()"
   ]
  },
  {
   "cell_type": "markdown",
   "metadata": {},
   "source": [
    "**Answer:** Similarly to the moon dataset the percepton is not able to find a linear separation. In this case the best it can do is cross the two circles arround the middle."
   ]
  },
  {
   "cell_type": "code",
   "execution_count": null,
   "metadata": {},
   "outputs": [],
   "source": [
    "#Circle\n",
    "\n",
    "print('number of iteration', ppn.n_iter_)\n",
    "print('weights', ppn.coef_)\n",
    "print('bias',ppn.intercept_)"
   ]
  },
  {
   "cell_type": "markdown",
   "metadata": {},
   "source": [
    "## Gradient based algorithms\n",
    "### ADALINE, logistic regression. \n",
    "\n",
    "See  details on: https://scikit-learn.org/stable/modules/sgd.html"
   ]
  },
  {
   "cell_type": "code",
   "execution_count": null,
   "metadata": {},
   "outputs": [],
   "source": [
    "from sklearn.linear_model import SGDClassifier\n",
    "# With loss=\"log\" a logistic regression is be appllied.  with loss=\"squared_loss\" is least squares.\n",
    "\n",
    "#Blobs\n",
    "gd=SGDClassifier(loss=\"log\", max_iter=20)\n",
    "\n",
    "gd\n"
   ]
  },
  {
   "cell_type": "code",
   "execution_count": null,
   "metadata": {},
   "outputs": [],
   "source": [
    "# fit - Blobs\n",
    "gd=gd.fit(X,y)\n",
    "\n",
    "# how it learns\n",
    "plot_decision_regions(X, y, clf=gd)\n",
    "plt.xlabel('x1')\n",
    "plt.ylabel('x2')\n",
    "plt.legend(loc='upper left')\n",
    "plt.grid()\n",
    "plt.tight_layout()\n",
    "plt.show()\n"
   ]
  },
  {
   "cell_type": "markdown",
   "metadata": {},
   "source": [
    "**Answer:** The SVM is also a linear model which means it can find a linear separation between the blobs."
   ]
  },
  {
   "cell_type": "code",
   "execution_count": null,
   "metadata": {},
   "outputs": [],
   "source": [
    "#Parameters - Blobs\n",
    "print('number of iteration', gd.n_iter_)\n",
    "print('weights', gd.coef_)\n",
    "print('bias',gd.intercept_)"
   ]
  },
  {
   "cell_type": "code",
   "execution_count": null,
   "metadata": {},
   "outputs": [],
   "source": [
    "# Moon (we repeat this line due to the max_iter is different)\n",
    "#TODO: removed the max_iter from the parameters (?)\n",
    "gd=SGDClassifier(loss=\"log\", max_iter=200)"
   ]
  },
  {
   "cell_type": "code",
   "execution_count": null,
   "metadata": {},
   "outputs": [],
   "source": [
    "# fit - Moon\n",
    "gd=gd.fit(xMoon,yMoon)\n",
    "\n",
    "# how it learns\n",
    "plot_decision_regions(xMoon, yMoon, clf=gd)\n",
    "plt.xlabel('x1')\n",
    "plt.ylabel('x2')\n",
    "plt.legend(loc='upper left')\n",
    "plt.grid()\n",
    "plt.tight_layout()\n",
    "plt.show()\n"
   ]
  },
  {
   "cell_type": "markdown",
   "metadata": {},
   "source": [
    "**Answer:** It has a similar behavioral to the perceptron."
   ]
  },
  {
   "cell_type": "code",
   "execution_count": null,
   "metadata": {},
   "outputs": [],
   "source": [
    "#Parameters - Moon\n",
    "print('number of iteration', gd.n_iter_)\n",
    "print('weights', gd.coef_)\n",
    "print('bias',gd.intercept_)"
   ]
  },
  {
   "cell_type": "code",
   "execution_count": null,
   "metadata": {},
   "outputs": [],
   "source": [
    "#Circle\n",
    "gd=SGDClassifier(loss=\"log\", max_iter=20)"
   ]
  },
  {
   "cell_type": "code",
   "execution_count": null,
   "metadata": {},
   "outputs": [],
   "source": [
    "# fit - Circle\n",
    "gd=gd.fit(xMoon,yMoon)\n",
    "\n",
    "# how it learns\n",
    "plot_decision_regions(xCir, yCir, clf=gd)\n",
    "plt.xlabel('x1')\n",
    "plt.ylabel('x2')\n",
    "plt.legend(loc='upper left')\n",
    "plt.grid()\n",
    "plt.tight_layout()\n",
    "plt.show()"
   ]
  },
  {
   "cell_type": "markdown",
   "metadata": {},
   "source": [
    "**Answer:** It has a similar behavioral to the perceptron."
   ]
  },
  {
   "cell_type": "code",
   "execution_count": null,
   "metadata": {},
   "outputs": [],
   "source": [
    "#Parameters - Circle\n",
    "print('number of iteration', gd.n_iter_)\n",
    "print('weights', gd.coef_)\n",
    "print('bias',gd.intercept_)"
   ]
  },
  {
   "cell_type": "markdown",
   "metadata": {},
   "source": [
    "## Question:\n",
    "1. Calculate the equation of the decision boundary\n",
    "\n",
    "**Answer:** The weights and bias are outputed for each model.\n",
    "\n",
    "2. The model learns all the training data?\n",
    "\n",
    "**Answer:** For each plot we replied with the learning capabilities of each model."
   ]
  },
  {
   "cell_type": "markdown",
   "metadata": {},
   "source": [
    "### KNN"
   ]
  },
  {
   "cell_type": "code",
   "execution_count": null,
   "metadata": {},
   "outputs": [],
   "source": [
    "from sklearn.neighbors import KNeighborsClassifier"
   ]
  },
  {
   "cell_type": "code",
   "execution_count": null,
   "metadata": {},
   "outputs": [],
   "source": [
    "neigh = KNeighborsClassifier(n_neighbors=3)\n",
    "neigh"
   ]
  },
  {
   "cell_type": "code",
   "execution_count": null,
   "metadata": {},
   "outputs": [],
   "source": [
    "# fit - Blobs\n",
    "neigh.fit(X, y)\n",
    "# how it learns\n",
    "plot_decision_regions(X, y, clf=neigh)\n",
    "plt.xlabel('x1')\n",
    "plt.ylabel('x2')\n",
    "plt.legend(loc='upper left')\n",
    "plt.grid()\n",
    "plt.tight_layout()\n",
    "plt.show()"
   ]
  },
  {
   "cell_type": "code",
   "execution_count": null,
   "metadata": {},
   "outputs": [],
   "source": [
    "# fit - Moon\n",
    "neigh.fit(xMoon, yMoon)\n",
    "# how it learns\n",
    "plot_decision_regions(xMoon, yMoon, clf=neigh)\n",
    "plt.xlabel('x1')\n",
    "plt.ylabel('x2')\n",
    "plt.legend(loc='upper left')\n",
    "plt.grid()\n",
    "plt.tight_layout()\n",
    "plt.show()"
   ]
  },
  {
   "cell_type": "code",
   "execution_count": null,
   "metadata": {},
   "outputs": [],
   "source": [
    "# fit - Circle\n",
    "neigh.fit(xCir, yCir)\n",
    "# how it learns\n",
    "plot_decision_regions(xCir, yCir, clf=neigh)\n",
    "plt.xlabel('x1')\n",
    "plt.ylabel('x2')\n",
    "plt.legend(loc='upper left')\n",
    "plt.grid()\n",
    "plt.tight_layout()\n",
    "plt.show()"
   ]
  },
  {
   "cell_type": "markdown",
   "metadata": {},
   "source": [
    "**Answer:** The KNN is a neighborhood based classifier, instead of a linear model.\n",
    "It is able to learn all the points in the three datasets.\n",
    "The classifier outputs a label based on similarity of the input features.\n",
    "Because of this, the decision boundary is not linear and reseamble a propagation of probabilities that a sample is classified as such output."
   ]
  }
 ],
 "metadata": {
  "kernelspec": {
   "display_name": "Python 3",
   "language": "python",
   "name": "python3"
  },
  "language_info": {
   "codemirror_mode": {
    "name": "ipython",
    "version": 3
   },
   "file_extension": ".py",
   "mimetype": "text/x-python",
   "name": "python",
   "nbconvert_exporter": "python",
   "pygments_lexer": "ipython3",
   "version": "3.8.5"
  }
 },
 "nbformat": 4,
 "nbformat_minor": 1
}
