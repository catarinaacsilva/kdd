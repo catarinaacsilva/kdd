{
 "cells": [
  {
   "cell_type": "markdown",
   "metadata": {},
   "source": [
    "# TEMPLATE \n",
    "\n",
    "  Training, and  Testing.  Measures of perfomance.\n",
    "  Evaluation of a classification pipeline: standard scaler and perceptron.\n",
    "  "
   ]
  },
  {
   "cell_type": "code",
   "execution_count": 131,
   "metadata": {},
   "outputs": [],
   "source": [
    "#numeric: pandas and numpy\n",
    "import numpy as np\n",
    "import pandas as pd\n",
    "# graphics\n",
    "%matplotlib inline \n",
    "import matplotlib.pyplot as plt \n",
    "import matplotlib.gridspec as gridspec "
   ]
  },
  {
   "cell_type": "markdown",
   "metadata": {},
   "source": [
    "# Toy Data\n",
    "\n",
    "Starting with toy data to understand the main characteristics of the models. \n",
    "1. Creating artificial data with two characteristics \n",
    "    might be useful.\n",
    "\n",
    "Scikit- learn provides also data sets with real data and all of them are avalaible and easily download and written in the proper formats \n",
    "\n",
    "https://scikit-learn.org/stable/datasets/index.html"
   ]
  },
  {
   "cell_type": "code",
   "execution_count": 132,
   "metadata": {},
   "outputs": [],
   "source": [
    "from sklearn.datasets import make_blobs, make_circles, make_moons, make_circles\n",
    "\n",
    "X_blobs, y_blobs = make_blobs(n_samples=1000, centers=2, n_features=2, random_state=None)\n",
    "\n",
    "X_moon,y_moon= make_moons(n_samples=1000, shuffle=True, noise=None, random_state=None)\n",
    "\n",
    "X_cir, y_cir= make_circles(n_samples=1000, shuffle=True, noise=None, random_state=None, factor=0.4)"
   ]
  },
  {
   "cell_type": "code",
   "execution_count": 133,
   "metadata": {},
   "outputs": [
    {
     "name": "stdout",
     "output_type": "stream",
     "text": [
      "[0 1]\n"
     ]
    }
   ],
   "source": [
    "print(np.unique(y_blobs))"
   ]
  },
  {
   "cell_type": "code",
   "execution_count": 134,
   "metadata": {
    "scrolled": true
   },
   "outputs": [
    {
     "data": {
      "text/plain": [
       "<matplotlib.collections.PathCollection at 0x7fe6dfb3d4c0>"
      ]
     },
     "execution_count": 134,
     "metadata": {},
     "output_type": "execute_result"
    },
    {
     "data": {
      "image/png": "[encoded data removed]",
      "text/plain": [
       "<Figure size 432x288 with 3 Axes>"
      ]
     },
     "metadata": {
      "needs_background": "light"
     },
     "output_type": "display_data"
    }
   ],
   "source": [
    "fig, (ax1, ax2, ax3) = plt.subplots(1, 3)\n",
    "\n",
    "ax1.scatter(X_blobs[y_blobs==0,0],X_blobs[y_blobs==0,1],marker='s',color='r',label='0' )\n",
    "ax1.scatter(X_blobs[y_blobs==1,0],X_blobs[y_blobs==1,1],marker='s',color='g',label='0' )\n",
    "#ax1.set_aspect('equal')\n",
    "ax2.scatter(X_moon[y_moon==0,0],X_moon[y_moon==0,1],marker='s',color='r',label='0' )\n",
    "ax2.scatter(X_moon[y_moon==1,0],X_moon[y_moon==1,1],marker='s',color='g',label='0' )\n",
    "\n",
    "ax3.scatter(X_cir[y_cir==0,0],X_cir[y_cir==0,1],marker='s',color='r',label='0' )\n",
    "ax3.scatter(X_cir[y_cir==1,0],X_cir[y_cir==1,1],marker='s',color='g',label='0' )\n"
   ]
  },
  {
   "cell_type": "markdown",
   "metadata": {},
   "source": [
    "# Model  Evaluation\n",
    "Read the section 4.5 (4.5.1 and 4.5.3)\n",
    "\n",
    "Tan , Steinback and Kumar: Introduction to Data Mining\n",
    "\n",
    "**or** the following  technical report\n",
    "\n",
    "https://arxiv.org/abs/1811.12808\n",
    "\n",
    "\n",
    "The following code introduces the main steps of the most used strategies to evaluate a model"
   ]
  },
  {
   "cell_type": "markdown",
   "metadata": {},
   "source": [
    "### Learning  and testing"
   ]
  },
  {
   "cell_type": "code",
   "execution_count": 135,
   "metadata": {},
   "outputs": [],
   "source": [
    "# The Data set\n",
    "X=X_moon\n",
    "y=y_moon "
   ]
  },
  {
   "cell_type": "code",
   "execution_count": 136,
   "metadata": {},
   "outputs": [],
   "source": [
    "from sklearn.model_selection import train_test_split\n",
    "from sklearn.metrics import confusion_matrix, plot_confusion_matrix\n"
   ]
  },
  {
   "cell_type": "markdown",
   "metadata": {},
   "source": [
    "# Strategy of Evaluation I:  Train and Test with hold-out\n",
    "\n",
    "Aplicable if the data set is large."
   ]
  },
  {
   "cell_type": "code",
   "execution_count": 137,
   "metadata": {},
   "outputs": [],
   "source": [
    "X_train_moon, X_test_moon, y_train_moon, y_test_moon = train_test_split( X, y, test_size=0.4, random_state=0)\n",
    " \n",
    "X_train_blobs, X_test_blobs, y_train_blobs, y_test_blobs = train_test_split( X_blobs, y_blobs, test_size=0.4, random_state=0)\n",
    "\n",
    "X_train_cir, X_test_cir, y_train_cir, y_test_cir = train_test_split( X_cir, y_cir, test_size=0.4, random_state=0)"
   ]
  },
  {
   "cell_type": "code",
   "execution_count": 138,
   "metadata": {},
   "outputs": [],
   "source": [
    "from sklearn.preprocessing import StandardScaler\n",
    "scaler = StandardScaler()   \n",
    "Xs=scaler.fit_transform(X_train_moon)\n",
    "\n",
    "Xtest=scaler.transform(X_test_moon)\n",
    "    "
   ]
  },
  {
   "cell_type": "code",
   "execution_count": 139,
   "metadata": {},
   "outputs": [
    {
     "data": {
      "text/plain": [
       "Perceptron(eta0=0.1, max_iter=20, n_jobs=1, tol=None)"
      ]
     },
     "execution_count": 139,
     "metadata": {},
     "output_type": "execute_result"
    }
   ],
   "source": [
    "from sklearn.linear_model import Perceptron\n",
    "#Create perceptron and assign hyperparameters (max_iter, eta0- learning rate)\n",
    "ppn=Perceptron(penalty=None, alpha=0.0001, fit_intercept=True, max_iter=20, tol=None, \n",
    "               eta0=0.1, n_jobs=1, random_state=0, class_weight=None, warm_start=False)\n",
    "\n",
    "#Learning\n",
    "ppn.fit(X_train_moon,y_train_moon)\n",
    "\n"
   ]
  },
  {
   "cell_type": "code",
   "execution_count": 140,
   "metadata": {},
   "outputs": [
    {
     "name": "stdout",
     "output_type": "stream",
     "text": [
      "[[165  38]\n",
      " [  7 190]]\n"
     ]
    }
   ],
   "source": [
    "y_pred=ppn.predict(X_test_moon)\n",
    "cm = confusion_matrix(y_test_moon,y_pred)\n",
    "print(cm)"
   ]
  },
  {
   "cell_type": "code",
   "execution_count": 141,
   "metadata": {},
   "outputs": [
    {
     "data": {
      "image/png": "[encoded data removed]",
      "text/plain": [
       "<Figure size 432x288 with 2 Axes>"
      ]
     },
     "metadata": {
      "needs_background": "light"
     },
     "output_type": "display_data"
    }
   ],
   "source": [
    "plot_confusion_matrix(ppn, X_test_moon, y_test_moon)  \n",
    "plt.show() "
   ]
  },
  {
   "cell_type": "code",
   "execution_count": 142,
   "metadata": {},
   "outputs": [
    {
     "name": "stdout",
     "output_type": "stream",
     "text": [
      "Accuracy =  0.8875\n",
      "Precision =  0.8333333333333334\n",
      "Recall =  0.9644670050761421\n",
      "F1 score =  0.8941176470588236\n",
      "Matthews correlation coefficient  =  0.7849176976574406\n"
     ]
    }
   ],
   "source": [
    "#Performance metrics estimated based on confusion matrix\n",
    "tp = cm[1][1]\n",
    "tn = cm[0][0]\n",
    "fp = cm[0][1]\n",
    "fn = cm[1][0]\n",
    "\n",
    "#Accuracy\n",
    "acc = (tp+tn)/(tp+tn+fp+fn)\n",
    "print('Accuracy = ', acc)\n",
    "\n",
    "# Precision\n",
    "precision = tp/(tp+fp)\n",
    "print('Precision = ', precision)\n",
    "\n",
    "#Recall\n",
    "recall = tp/(tp+fn)\n",
    "print('Recall = ', recall)\n",
    "\n",
    "#F1 Score\n",
    "f1 = (2*tp)/(2*tp + fp + fn)\n",
    "print('F1 score = ', f1)\n",
    "\n",
    "#MCC\n",
    "import math\n",
    "mcc = (tp*tn-fp*fn)/math.sqrt((tp+fp)*(tp+fn)*(tn+fp)*(tn+fn))\n",
    "print('Matthews correlation coefficient  = ', mcc)"
   ]
  },
  {
   "cell_type": "code",
   "execution_count": 143,
   "metadata": {},
   "outputs": [
    {
     "name": "stdout",
     "output_type": "stream",
     "text": [
      "Accuracy =  0.8875\n",
      "Precision =  0.8333333333333334\n",
      "Recall =  0.9644670050761421\n",
      "F1 score =  0.8941176470588235\n",
      "Matthews correlation coefficient  =  0.7849176976574406\n"
     ]
    }
   ],
   "source": [
    "# Performance metrics using sklearn.metrics\n",
    "\n",
    "from sklearn.metrics import *\n",
    "\n",
    "#Accuracy\n",
    "acc = accuracy_score(y_test_moon, y_pred)\n",
    "print('Accuracy = ', acc)\n",
    "\n",
    "# Precision\n",
    "precision = precision_score(y_test_moon, y_pred)\n",
    "print('Precision = ', precision)\n",
    "\n",
    "#Recall\n",
    "recall = recall_score(y_test_moon, y_pred)\n",
    "print('Recall = ', recall)\n",
    "\n",
    "#F1 Score\n",
    "f1 = f1_score(y_test_moon, y_pred)\n",
    "print('F1 score = ', f1)\n",
    "\n",
    "#MCC\n",
    "mcc = matthews_corrcoef(y_test_moon, y_pred)\n",
    "print('Matthews correlation coefficient  = ', mcc)"
   ]
  },
  {
   "cell_type": "code",
   "execution_count": 144,
   "metadata": {},
   "outputs": [],
   "source": [
    "scaler = StandardScaler()   \n",
    "Xs=scaler.fit_transform(X_train_blobs)\n",
    "\n",
    "Xtest=scaler.transform(X_test_blobs)"
   ]
  },
  {
   "cell_type": "code",
   "execution_count": 145,
   "metadata": {},
   "outputs": [
    {
     "data": {
      "text/plain": [
       "Perceptron(eta0=0.1, max_iter=20, n_jobs=1, tol=None)"
      ]
     },
     "execution_count": 145,
     "metadata": {},
     "output_type": "execute_result"
    }
   ],
   "source": [
    "#Create perceptron and assign hyperparameters (max_iter, eta0- learning rate)\n",
    "ppn=Perceptron(penalty=None, alpha=0.0001, fit_intercept=True, max_iter=20, tol=None, \n",
    "               eta0=0.1, n_jobs=1, random_state=0, class_weight=None, warm_start=False)\n",
    "\n",
    "#Learning\n",
    "ppn.fit(X_train_blobs,y_train_blobs)\n"
   ]
  },
  {
   "cell_type": "code",
   "execution_count": 146,
   "metadata": {},
   "outputs": [
    {
     "name": "stdout",
     "output_type": "stream",
     "text": [
      "[[204   0]\n",
      " [  0 196]]\n"
     ]
    }
   ],
   "source": [
    "y_pred=ppn.predict(X_test_blobs)\n",
    "cm = confusion_matrix(y_test_blobs,y_pred)\n",
    "print(cm)"
   ]
  },
  {
   "cell_type": "code",
   "execution_count": 147,
   "metadata": {},
   "outputs": [
    {
     "data": {
      "image/png": "[encoded data removed]",
      "text/plain": [
       "<Figure size 432x288 with 2 Axes>"
      ]
     },
     "metadata": {
      "needs_background": "light"
     },
     "output_type": "display_data"
    }
   ],
   "source": [
    "plot_confusion_matrix(ppn, X_test_blobs, y_test_blobs)  \n",
    "plt.show() "
   ]
  },
  {
   "cell_type": "code",
   "execution_count": 148,
   "metadata": {},
   "outputs": [
    {
     "name": "stdout",
     "output_type": "stream",
     "text": [
      "Accuracy =  1.0\n",
      "Precision =  1.0\n",
      "Recall =  1.0\n",
      "F1 score =  1.0\n",
      "Matthews correlation coefficient  =  1.0\n"
     ]
    }
   ],
   "source": [
    "#Performance metrics estimated based on confusion matrix\n",
    "tp = cm[1][1]\n",
    "tn = cm[0][0]\n",
    "fp = cm[0][1]\n",
    "fn = cm[1][0]\n",
    "\n",
    "#Accuracy\n",
    "acc = (tp+tn)/(tp+tn+fp+fn)\n",
    "print('Accuracy = ', acc)\n",
    "\n",
    "# Precision\n",
    "precision = tp/(tp+fp)\n",
    "print('Precision = ', precision)\n",
    "\n",
    "#Recall\n",
    "recall = tp/(tp+fn)\n",
    "print('Recall = ', recall)\n",
    "\n",
    "#F1 Score\n",
    "f1 = (2*tp)/(2*tp + fp + fn)\n",
    "print('F1 score = ', f1)\n",
    "\n",
    "#MCC\n",
    "mcc = (tp*tn-fp*fn)/math.sqrt((tp+fp)*(tp+fn)*(tn+fp)*(tn+fn))\n",
    "print('Matthews correlation coefficient  = ', mcc)"
   ]
  },
  {
   "cell_type": "code",
   "execution_count": 149,
   "metadata": {},
   "outputs": [
    {
     "name": "stdout",
     "output_type": "stream",
     "text": [
      "Accuracy =  1.0\n",
      "Precision =  1.0\n",
      "Recall =  1.0\n",
      "F1 score =  1.0\n",
      "Matthews correlation coefficient  =  1.0\n"
     ]
    }
   ],
   "source": [
    "# Performance metrics using sklearn.metrics\n",
    "\n",
    "#Accuracy\n",
    "acc = accuracy_score(y_test_blobs, y_pred)\n",
    "print('Accuracy = ', acc)\n",
    "\n",
    "# Precision\n",
    "precision = precision_score(y_test_blobs, y_pred)\n",
    "print('Precision = ', precision)\n",
    "\n",
    "#Recall\n",
    "recall = recall_score(y_test_blobs, y_pred)\n",
    "print('Recall = ', recall)\n",
    "\n",
    "#F1 Score\n",
    "f1 = f1_score(y_test_blobs, y_pred)\n",
    "print('F1 score = ', f1)\n",
    "\n",
    "#MCC\n",
    "mcc = matthews_corrcoef(y_test_blobs, y_pred)\n",
    "print('Matthews correlation coefficient  = ', mcc)"
   ]
  },
  {
   "cell_type": "code",
   "execution_count": 150,
   "metadata": {},
   "outputs": [],
   "source": [
    "scaler = StandardScaler()   \n",
    "Xs=scaler.fit_transform(X_train_cir)\n",
    "\n",
    "Xtest=scaler.transform(X_test_cir)"
   ]
  },
  {
   "cell_type": "code",
   "execution_count": 151,
   "metadata": {},
   "outputs": [
    {
     "data": {
      "text/plain": [
       "Perceptron(eta0=0.1, max_iter=20, n_jobs=1, tol=None)"
      ]
     },
     "execution_count": 151,
     "metadata": {},
     "output_type": "execute_result"
    }
   ],
   "source": [
    "#Create perceptron and assign hyperparameters (max_iter, eta0- learning rate)\n",
    "ppn=Perceptron(penalty=None, alpha=0.0001, fit_intercept=True, max_iter=20, tol=None, \n",
    "               eta0=0.1, n_jobs=1, random_state=0, class_weight=None, warm_start=False)\n",
    "\n",
    "#Learning\n",
    "ppn.fit(X_train_cir,y_train_cir)"
   ]
  },
  {
   "cell_type": "code",
   "execution_count": 152,
   "metadata": {},
   "outputs": [
    {
     "name": "stdout",
     "output_type": "stream",
     "text": [
      "[[196   0]\n",
      " [204   0]]\n"
     ]
    }
   ],
   "source": [
    "y_pred=ppn.predict(X_test_cir)\n",
    "cm = confusion_matrix(y_test_cir,y_pred)\n",
    "print(cm)"
   ]
  },
  {
   "cell_type": "code",
   "execution_count": 153,
   "metadata": {},
   "outputs": [
    {
     "data": {
      "image/png": "[encoded data removed]",
      "text/plain": [
       "<Figure size 432x288 with 2 Axes>"
      ]
     },
     "metadata": {
      "needs_background": "light"
     },
     "output_type": "display_data"
    }
   ],
   "source": [
    "plot_confusion_matrix(ppn, X_test_cir, y_test_cir)  \n",
    "plt.show() "
   ]
  },
  {
   "cell_type": "code",
   "execution_count": 154,
   "metadata": {},
   "outputs": [
    {
     "name": "stdout",
     "output_type": "stream",
     "text": [
      "Accuracy =  0.49\n",
      "Precision =  nan\n",
      "Recall =  0.0\n",
      "F1 score =  0.0\n",
      "Matthews correlation coefficient  =  nan\n"
     ]
    },
    {
     "name": "stderr",
     "output_type": "stream",
     "text": [
      "<ipython-input-154-8b10f6d6cfe5>:12: RuntimeWarning: invalid value encountered in long_scalars\n",
      "  precision = tp/(tp+fp)\n",
      "<ipython-input-154-8b10f6d6cfe5>:24: RuntimeWarning: invalid value encountered in true_divide\n",
      "  mcc = (tp*tn-fp*fn)/math.sqrt((tp+fp)*(tp+fn)*(tn+fp)*(tn+fn))\n"
     ]
    }
   ],
   "source": [
    "#Performance metrics estimated based on confusion matrix\n",
    "tp = cm[1][1]\n",
    "tn = cm[0][0]\n",
    "fp = cm[0][1]\n",
    "fn = cm[1][0]\n",
    "\n",
    "#Accuracy\n",
    "acc = (tp+tn)/(tp+tn+fp+fn)\n",
    "print('Accuracy = ', acc)\n",
    "\n",
    "# Precision\n",
    "precision = tp/(tp+fp)\n",
    "print('Precision = ', precision)\n",
    "\n",
    "#Recall\n",
    "recall = tp/(tp+fn)\n",
    "print('Recall = ', recall)\n",
    "\n",
    "#F1 Score\n",
    "f1 = (2*tp)/(2*tp + fp + fn)\n",
    "print('F1 score = ', f1)\n",
    "\n",
    "#MCC\n",
    "mcc = (tp*tn-fp*fn)/math.sqrt((tp+fp)*(tp+fn)*(tn+fp)*(tn+fn))\n",
    "print('Matthews correlation coefficient  = ', mcc)"
   ]
  },
  {
   "cell_type": "code",
   "execution_count": 155,
   "metadata": {},
   "outputs": [
    {
     "name": "stdout",
     "output_type": "stream",
     "text": [
      "Accuracy =  0.49\n",
      "Precision =  0.0\n",
      "Recall =  0.0\n",
      "F1 score =  0.0\n",
      "Matthews correlation coefficient  =  0.0\n"
     ]
    },
    {
     "name": "stderr",
     "output_type": "stream",
     "text": [
      "/home/catarina/git/ed/venv/lib/python3.8/site-packages/sklearn/metrics/_classification.py:1221: UndefinedMetricWarning: Precision is ill-defined and being set to 0.0 due to no predicted samples. Use `zero_division` parameter to control this behavior.\n",
      "  _warn_prf(average, modifier, msg_start, len(result))\n",
      "/home/catarina/git/ed/venv/lib/python3.8/site-packages/sklearn/metrics/_classification.py:846: RuntimeWarning: invalid value encountered in double_scalars\n",
      "  mcc = cov_ytyp / np.sqrt(cov_ytyt * cov_ypyp)\n"
     ]
    }
   ],
   "source": [
    "# Performance metrics using sklearn.metrics\n",
    "\n",
    "#Accuracy\n",
    "acc = accuracy_score(y_test_cir, y_pred)\n",
    "print('Accuracy = ', acc)\n",
    "\n",
    "# Precision\n",
    "precision = precision_score(y_test_cir, y_pred)\n",
    "print('Precision = ', precision)\n",
    "\n",
    "#Recall\n",
    "recall = recall_score(y_test_cir, y_pred)\n",
    "print('Recall = ', recall)\n",
    "\n",
    "#F1 Score\n",
    "f1 = f1_score(y_test_cir, y_pred)\n",
    "print('F1 score = ', f1)\n",
    "\n",
    "#MCC\n",
    "mcc = matthews_corrcoef(y_test_cir, y_pred)\n",
    "print('Matthews correlation coefficient  = ', mcc)"
   ]
  },
  {
   "cell_type": "markdown",
   "metadata": {},
   "source": [
    "### Exercise: \n",
    "1. Try to understand the contents of the confusion matrix . Describe each of the entries by your own words\n",
    "\n",
    "**Answer:** The confusion matrix (for binary classes) is composed of four different cells: TN, TP, FN and FP.\n",
    "TN is the true negatives and TP is the true positives. These values represent the classes correctly classified by the model.\n",
    "FP is the false negatives and FP is the false positives. These values represent the classes wrongly classified by the model.\n",
    "The main diagonal represents the true part and the remaining cells represents the misclassifications.\n",
    "\n",
    "2. Using the confusion matrix estimate: accuracy, recall, precision \n",
    "\n",
    "**Answer:** The estimated metrics were computed for each dataset. We also include F1_score and MCC.\n",
    "The F1_score combines precision and recall into a single value.\n",
    "MCC is being widely used nowadays to evaluate model accuracy.\n",
    "\n",
    "3. Use the other facilities of the package sklearn.metrics to estimate the scores.\n",
    "\n",
    "**Answer:** We also used the sklearn.metrics functions to compute the scores. It was possible to validate our previous computation.\n"
   ]
  },
  {
   "cell_type": "markdown",
   "metadata": {},
   "source": [
    "# Strategy of Evaluation II:  K-fold train and test\n",
    "\n",
    "\n",
    "The most widely used strategy to evalaute a classifier when the data set is not long enough"
   ]
  },
  {
   "cell_type": "code",
   "execution_count": null,
   "metadata": {},
   "outputs": [],
   "source": [
    "from sklearn.model_selection import StratifiedKFold\n",
    "    "
   ]
  },
  {
   "cell_type": "code",
   "execution_count": null,
   "metadata": {},
   "outputs": [],
   "source": [
    "ppn=Perceptron(penalty=None, alpha=0.0001, fit_intercept=True, max_iter=20, tol=None, \n",
    "               eta0=0.1, n_jobs=1, random_state=0, class_weight=None, warm_start=False)"
   ]
  },
  {
   "cell_type": "markdown",
   "metadata": {},
   "source": [
    "#### pre-processing included in the classification pipeline\n",
    "##### 5-fold cross-validation."
   ]
  },
  {
   "cell_type": "code",
   "execution_count": null,
   "metadata": {},
   "outputs": [],
   "source": [
    "k_fold = StratifiedKFold(n_splits=5)\n",
    "\n",
    "acc = np.array([])\n",
    "precision = np.array([])\n",
    "recall = np.array([])\n",
    "f1 = np.array([])\n",
    "mcc = np.array([])\n",
    "\n",
    "for X,y in [(X_moon, y_moon), (X_blobs, y_blobs), (X_cir, y_cir)]:\n",
    "\n",
    "    for train_indices, test_indices in k_fold.split(X,y):\n",
    "        scaler = StandardScaler() \n",
    "        X_train=X[train_indices]\n",
    "\n",
    "        Xs=scaler.fit_transform(X_train)\n",
    "\n",
    "        Xtest=scaler.transform(X[test_indices])\n",
    "\n",
    "        ppn.fit(Xs,y[train_indices])\n",
    "\n",
    "        y_pred=ppn.predict(Xtest)\n",
    "        cm = confusion_matrix(y[test_indices],y_pred)\n",
    "        print(cm)\n",
    "\n",
    "        tp = cm[1][1]\n",
    "        tn = cm[0][0]\n",
    "        fp = cm[0][1]\n",
    "        fn = cm[1][0]\n",
    "\n",
    "        #Accuracy\n",
    "        acc = np.append(acc, (tp+tn)/(tp+tn+fp+fn))\n",
    "\n",
    "        # Precision\n",
    "        precision = np.append(precision, tp/(tp+fp))\n",
    "\n",
    "\n",
    "        #Recall\n",
    "        recall = np.append(recall, tp/(tp+fn))\n",
    "\n",
    "\n",
    "        #F1 Score\n",
    "        f1 = np.append(f1, (2*tp)/(2*tp + fp + fn))\n",
    "\n",
    "\n",
    "        #MCC\n",
    "        mcc =np.append(mcc, (tp*tn-fp*fn)/math.sqrt((tp+fp)*(tp+fn)*(tn+fp)*(tn+fn)))\n",
    "   \n",
    "    print('Accuracy = ', np.average(acc))\n",
    "    print('Precision = ', np.average(precision))\n",
    "    print('Recall = ', np.average(recall))\n",
    "    print('F1 = ', np.average(f1))\n",
    "    print('Matthews correlation coefficient = ', np.average(mcc))\n",
    "    print('********************************************************************************')\n",
    "   \n",
    "    "
   ]
  },
  {
   "cell_type": "markdown",
   "metadata": {},
   "source": [
    "### Exercise: introduce in the loop  the calculation of scores using the facilities of the package sklearn.metrics\n"
   ]
  },
  {
   "cell_type": "markdown",
   "metadata": {},
   "source": [
    "**Answer:** For each loop we computed the perfomance metrics based on the confusion matrix.\n",
    "The final metrics are the average of the k folds. "
   ]
  }
 ],
 "metadata": {
  "kernelspec": {
   "display_name": "Python 3",
   "language": "python",
   "name": "python3"
  },
  "language_info": {
   "codemirror_mode": {
    "name": "ipython",
    "version": 3
   },
   "file_extension": ".py",
   "mimetype": "text/x-python",
   "name": "python",
   "nbconvert_exporter": "python",
   "pygments_lexer": "ipython3",
   "version": "3.8.5"
  }
 },
 "nbformat": 4,
 "nbformat_minor": 1
}
